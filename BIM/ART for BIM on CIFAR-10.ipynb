{
 "cells": [
  {
   "cell_type": "code",
   "execution_count": 1,
   "id": "ed5c6594-6c5b-4498-aded-710b62fc6d84",
   "metadata": {},
   "outputs": [
    {
     "name": "stderr",
     "output_type": "stream",
     "text": [
      "D:\\Tarun\\Desktop\\mlProj\\my_venv\\Lib\\site-packages\\tqdm\\auto.py:21: TqdmWarning: IProgress not found. Please update jupyter and ipywidgets. See https://ipywidgets.readthedocs.io/en/stable/user_install.html\n",
      "  from .autonotebook import tqdm as notebook_tqdm\n"
     ]
    }
   ],
   "source": [
    "import numpy as np\n",
    "import tensorflow as tf\n",
    "from art.attacks.evasion import BasicIterativeMethod\n",
    "from art.estimators.classification import TensorFlowV2Classifier\n",
    "import matplotlib.pyplot as plt\n"
   ]
  },
  {
   "cell_type": "code",
   "execution_count": 2,
   "id": "c1df114e-492c-46db-93df-e848dabb1ed7",
   "metadata": {},
   "outputs": [],
   "source": [
    "# Load CIFAR-10 dataset\n",
    "(x_train, y_train), (x_test, y_test) = tf.keras.datasets.cifar10.load_data()\n"
   ]
  },
  {
   "cell_type": "code",
   "execution_count": 3,
   "id": "7dcc1eeb-d670-4bab-be1a-547a59b8588d",
   "metadata": {},
   "outputs": [],
   "source": [
    "# Preprocess data\n",
    "x_train = x_train.astype(\"float32\") / 255.0\n",
    "x_test = x_test.astype(\"float32\") / 255.0\n",
    "y_train = tf.keras.utils.to_categorical(y_train, 10)\n",
    "y_test = tf.keras.utils.to_categorical(y_test, 10)\n"
   ]
  },
  {
   "cell_type": "code",
   "execution_count": 4,
   "id": "1d7ae90f-7c22-4470-a664-42fd006616d1",
   "metadata": {},
   "outputs": [],
   "source": [
    "# Use a smaller subset of the dataset\n",
    "subset_size = 1000  # Adjust this size as needed\n",
    "x_test_subset = x_test[:subset_size]\n",
    "y_test_subset = y_test[:subset_size]"
   ]
  },
  {
   "cell_type": "code",
   "execution_count": 5,
   "id": "0ee0f4a7-6276-43b0-ace3-78ad97414e86",
   "metadata": {},
   "outputs": [
    {
     "name": "stderr",
     "output_type": "stream",
     "text": [
      "D:\\Tarun\\Desktop\\mlProj\\my_venv\\Lib\\site-packages\\keras\\src\\layers\\convolutional\\base_conv.py:107: UserWarning: Do not pass an `input_shape`/`input_dim` argument to a layer. When using Sequential models, prefer using an `Input(shape)` object as the first layer in the model instead.\n",
      "  super().__init__(activity_regularizer=activity_regularizer, **kwargs)\n"
     ]
    }
   ],
   "source": [
    "# Create a simple CNN model\n",
    "model = tf.keras.Sequential([\n",
    "    tf.keras.layers.Conv2D(32, (3, 3), activation=\"relu\", input_shape=(32, 32, 3)),\n",
    "    tf.keras.layers.MaxPooling2D((2, 2)),\n",
    "    tf.keras.layers.Conv2D(64, (3, 3), activation=\"relu\"),\n",
    "    tf.keras.layers.MaxPooling2D((2, 2)),\n",
    "    tf.keras.layers.Conv2D(64, (3, 3), activation=\"relu\"),\n",
    "    tf.keras.layers.Flatten(),\n",
    "    tf.keras.layers.Dense(128, activation=\"relu\"),\n",
    "    tf.keras.layers.Dense(10, activation=\"softmax\")\n",
    "])"
   ]
  },
  {
   "cell_type": "code",
   "execution_count": 6,
   "id": "cc6b0999-542f-4712-9819-d39c30fe251d",
   "metadata": {},
   "outputs": [],
   "source": [
    "# Compile the model\n",
    "model.compile(optimizer=\"adam\", loss=\"categorical_crossentropy\", metrics=[\"accuracy\"])"
   ]
  },
  {
   "cell_type": "code",
   "execution_count": 7,
   "id": "a6f9104f-2194-4290-8dee-1157d64eea98",
   "metadata": {},
   "outputs": [
    {
     "name": "stdout",
     "output_type": "stream",
     "text": [
      "Epoch 1/10\n",
      "\u001b[1m704/704\u001b[0m \u001b[32m━━━━━━━━━━━━━━━━━━━━\u001b[0m\u001b[37m\u001b[0m \u001b[1m8s\u001b[0m 10ms/step - accuracy: 0.3481 - loss: 1.7597 - val_accuracy: 0.5416 - val_loss: 1.2941\n",
      "Epoch 2/10\n",
      "\u001b[1m704/704\u001b[0m \u001b[32m━━━━━━━━━━━━━━━━━━━━\u001b[0m\u001b[37m\u001b[0m \u001b[1m6s\u001b[0m 9ms/step - accuracy: 0.5603 - loss: 1.2312 - val_accuracy: 0.6198 - val_loss: 1.0913\n",
      "Epoch 3/10\n",
      "\u001b[1m704/704\u001b[0m \u001b[32m━━━━━━━━━━━━━━━━━━━━\u001b[0m\u001b[37m\u001b[0m \u001b[1m7s\u001b[0m 9ms/step - accuracy: 0.6301 - loss: 1.0512 - val_accuracy: 0.6390 - val_loss: 1.0428\n",
      "Epoch 4/10\n",
      "\u001b[1m704/704\u001b[0m \u001b[32m━━━━━━━━━━━━━━━━━━━━\u001b[0m\u001b[37m\u001b[0m \u001b[1m6s\u001b[0m 9ms/step - accuracy: 0.6664 - loss: 0.9507 - val_accuracy: 0.6676 - val_loss: 0.9666\n",
      "Epoch 5/10\n",
      "\u001b[1m704/704\u001b[0m \u001b[32m━━━━━━━━━━━━━━━━━━━━\u001b[0m\u001b[37m\u001b[0m \u001b[1m7s\u001b[0m 9ms/step - accuracy: 0.6962 - loss: 0.8621 - val_accuracy: 0.6720 - val_loss: 0.9270\n",
      "Epoch 6/10\n",
      "\u001b[1m704/704\u001b[0m \u001b[32m━━━━━━━━━━━━━━━━━━━━\u001b[0m\u001b[37m\u001b[0m \u001b[1m7s\u001b[0m 9ms/step - accuracy: 0.7248 - loss: 0.7883 - val_accuracy: 0.7112 - val_loss: 0.8473\n",
      "Epoch 7/10\n",
      "\u001b[1m704/704\u001b[0m \u001b[32m━━━━━━━━━━━━━━━━━━━━\u001b[0m\u001b[37m\u001b[0m \u001b[1m7s\u001b[0m 10ms/step - accuracy: 0.7432 - loss: 0.7325 - val_accuracy: 0.6908 - val_loss: 0.8991\n",
      "Epoch 8/10\n",
      "\u001b[1m704/704\u001b[0m \u001b[32m━━━━━━━━━━━━━━━━━━━━\u001b[0m\u001b[37m\u001b[0m \u001b[1m7s\u001b[0m 10ms/step - accuracy: 0.7611 - loss: 0.6741 - val_accuracy: 0.7220 - val_loss: 0.8217\n",
      "Epoch 9/10\n",
      "\u001b[1m704/704\u001b[0m \u001b[32m━━━━━━━━━━━━━━━━━━━━\u001b[0m\u001b[37m\u001b[0m \u001b[1m7s\u001b[0m 10ms/step - accuracy: 0.7765 - loss: 0.6354 - val_accuracy: 0.7288 - val_loss: 0.8138\n",
      "Epoch 10/10\n",
      "\u001b[1m704/704\u001b[0m \u001b[32m━━━━━━━━━━━━━━━━━━━━\u001b[0m\u001b[37m\u001b[0m \u001b[1m7s\u001b[0m 10ms/step - accuracy: 0.7996 - loss: 0.5741 - val_accuracy: 0.7310 - val_loss: 0.8475\n"
     ]
    },
    {
     "data": {
      "text/plain": [
       "<keras.src.callbacks.history.History at 0x21b4bbed250>"
      ]
     },
     "execution_count": 7,
     "metadata": {},
     "output_type": "execute_result"
    }
   ],
   "source": [
    "# Train the model\n",
    "model.fit(x_train, y_train, epochs=10, validation_split=0.1, batch_size=64)\n"
   ]
  },
  {
   "cell_type": "code",
   "execution_count": 8,
   "id": "5864b3eb-eef9-4b2f-be36-ae3619a76494",
   "metadata": {},
   "outputs": [],
   "source": [
    "# Define the loss function\n",
    "loss_object = tf.keras.losses.CategoricalCrossentropy()"
   ]
  },
  {
   "cell_type": "code",
   "execution_count": 9,
   "id": "b71a5198-4ab2-44a6-b9cd-ae7e32c2448e",
   "metadata": {},
   "outputs": [],
   "source": [
    "# Create ART classifier with loss function\n",
    "classifier = TensorFlowV2Classifier(model=model, nb_classes=10, input_shape=(32, 32, 3), loss_object=loss_object)\n"
   ]
  },
  {
   "cell_type": "code",
   "execution_count": 10,
   "id": "00a8c4ce-c946-45d1-bb46-2f6b1ecf9ec1",
   "metadata": {},
   "outputs": [],
   "source": [
    "# Initialize BIM attack\n",
    "attack = BasicIterativeMethod(estimator=classifier, eps=0.1, eps_step=0.01, max_iter=10)\n"
   ]
  },
  {
   "cell_type": "code",
   "execution_count": 11,
   "id": "8b41d7f0-f86a-4704-a77e-6798c9cc69f3",
   "metadata": {},
   "outputs": [
    {
     "name": "stderr",
     "output_type": "stream",
     "text": [
      "                                      \r"
     ]
    }
   ],
   "source": [
    "# Iterate over a range of eps values\n",
    "eps_values = np.linspace(0.01, 0.1, num=10)\n",
    "accuracies = []\n",
    "\n",
    "for eps in eps_values:\n",
    "    # Update the attack with the current eps value\n",
    "    attack.set_params(eps=eps)\n",
    "\n",
    "    # Generate adversarial examples\n",
    "    x_adv = attack.generate(x=x_test_subset)\n",
    "\n",
    "    # Evaluate model accuracy on adversarial examples\n",
    "    accuracy = np.mean(np.argmax(classifier.predict(x_adv), axis=1) == np.argmax(y_test_subset, axis=1))\n",
    "    accuracies.append(accuracy)"
   ]
  },
  {
   "cell_type": "code",
   "execution_count": 14,
   "id": "1d221989-394f-436c-a1f3-c1fe0ac3d980",
   "metadata": {},
   "outputs": [
    {
     "data": {
      "image/png": "[encoded data removed]",
      "text/plain": [
       "<Figure size 640x480 with 1 Axes>"
      ]
     },
     "metadata": {},
     "output_type": "display_data"
    },
    {
     "name": "stdout",
     "output_type": "stream",
     "text": [
      "Maximum eps value after which the model fails (accuracy <= 15%): 0.03\n"
     ]
    }
   ],
   "source": [
    "# Plot the graph\n",
    "plt.plot(eps_values, accuracies, marker=\"o\")\n",
    "plt.axhline(y=0.15, color='r', linestyle='--')\n",
    "plt.xlabel(\"Eps (Perturbation Magnitude)\")\n",
    "plt.ylabel(\"Model Accuracy\")\n",
    "plt.title(\"BIM on CIFAR-10: Model Accuracy vs. Eps\")\n",
    "plt.grid(True)\n",
    "plt.show()\n",
    "\n",
    "print(f\"Maximum eps value after which the model fails (accuracy <= 15%): {eps_values[np.where(np.array(accuracies) <= 0.15)[0][0]]:.2f}\")"
   ]
  },
  {
   "cell_type": "code",
   "execution_count": null,
   "id": "9a93516f-a9cc-4ca9-84a0-53210e16b128",
   "metadata": {},
   "outputs": [],
   "source": []
  }
 ],
 "metadata": {
  "kernelspec": {
   "display_name": "Python (art_kernel)",
   "language": "python",
   "name": "art_kernel"
  },
  "language_info": {
   "codemirror_mode": {
    "name": "ipython",
    "version": 3
   },
   "file_extension": ".py",
   "mimetype": "text/x-python",
   "name": "python",
   "nbconvert_exporter": "python",
   "pygments_lexer": "ipython3",
   "version": "3.12.4"
  }
 },
 "nbformat": 4,
 "nbformat_minor": 5
}
