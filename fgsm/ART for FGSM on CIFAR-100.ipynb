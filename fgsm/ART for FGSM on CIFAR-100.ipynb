{
 "cells": [
  {
   "cell_type": "code",
   "execution_count": 1,
   "id": "0a71e75a-7130-47c4-9bb6-6f8dec3aa5fd",
   "metadata": {},
   "outputs": [
    {
     "name": "stderr",
     "output_type": "stream",
     "text": [
      "D:\\Tarun\\Desktop\\mlProj\\my_venv\\Lib\\site-packages\\tqdm\\auto.py:21: TqdmWarning: IProgress not found. Please update jupyter and ipywidgets. See https://ipywidgets.readthedocs.io/en/stable/user_install.html\n",
      "  from .autonotebook import tqdm as notebook_tqdm\n"
     ]
    }
   ],
   "source": [
    "import numpy as np\n",
    "import tensorflow as tf\n",
    "from art.attacks.evasion import FastGradientMethod\n",
    "from art.estimators.classification import TensorFlowV2Classifier\n",
    "import matplotlib.pyplot as plt"
   ]
  },
  {
   "cell_type": "code",
   "execution_count": 2,
   "id": "f79e2fe5-ab6c-4d90-a0b1-92f789e8b3a8",
   "metadata": {},
   "outputs": [],
   "source": [
    "# Load CIFAR-100 dataset\n",
    "(x_train, y_train), (x_test, y_test) = tf.keras.datasets.cifar100.load_data()"
   ]
  },
  {
   "cell_type": "code",
   "execution_count": 3,
   "id": "731b210a-2c0f-49fd-9fae-df46b33f0202",
   "metadata": {},
   "outputs": [],
   "source": [
    "# Preprocess data\n",
    "x_train = x_train.astype(\"float32\") / 255.0\n",
    "x_test = x_test.astype(\"float32\") / 255.0\n",
    "y_train = tf.keras.utils.to_categorical(y_train, 100)\n",
    "y_test = tf.keras.utils.to_categorical(y_test, 100)"
   ]
  },
  {
   "cell_type": "code",
   "execution_count": 4,
   "id": "85d87bd9-b627-470c-acd2-d580fd68874d",
   "metadata": {},
   "outputs": [
    {
     "name": "stderr",
     "output_type": "stream",
     "text": [
      "D:\\Tarun\\Desktop\\mlProj\\my_venv\\Lib\\site-packages\\keras\\src\\layers\\convolutional\\base_conv.py:107: UserWarning: Do not pass an `input_shape`/`input_dim` argument to a layer. When using Sequential models, prefer using an `Input(shape)` object as the first layer in the model instead.\n",
      "  super().__init__(activity_regularizer=activity_regularizer, **kwargs)\n"
     ]
    }
   ],
   "source": [
    "# Create a simple CNN model (you can replace this with your own trained model)\n",
    "model = tf.keras.Sequential([\n",
    "    tf.keras.layers.Conv2D(32, (3, 3), activation=\"relu\", input_shape=(32, 32, 3)),\n",
    "    tf.keras.layers.MaxPooling2D((2, 2)),\n",
    "    tf.keras.layers.Conv2D(64, (3, 3), activation=\"relu\"),\n",
    "    tf.keras.layers.MaxPooling2D((2, 2)),\n",
    "    tf.keras.layers.Conv2D(64, (3, 3), activation=\"relu\"),\n",
    "    tf.keras.layers.Flatten(),\n",
    "    tf.keras.layers.Dense(128, activation=\"relu\"),\n",
    "    tf.keras.layers.Dense(100, activation=\"softmax\")\n",
    "])\n"
   ]
  },
  {
   "cell_type": "code",
   "execution_count": 5,
   "id": "62afdfad-27b2-490c-ae09-936b2febd171",
   "metadata": {},
   "outputs": [],
   "source": [
    "# Compile the model\n",
    "model.compile(optimizer=\"adam\", loss=\"categorical_crossentropy\", metrics=[\"accuracy\"])"
   ]
  },
  {
   "cell_type": "code",
   "execution_count": 6,
   "id": "fb36f450-c4c1-43b0-8c56-b0ad50d894cd",
   "metadata": {},
   "outputs": [
    {
     "name": "stdout",
     "output_type": "stream",
     "text": [
      "Epoch 1/10\n",
      "\u001b[1m704/704\u001b[0m \u001b[32m━━━━━━━━━━━━━━━━━━━━\u001b[0m\u001b[37m\u001b[0m \u001b[1m8s\u001b[0m 10ms/step - accuracy: 0.0472 - loss: 4.2830 - val_accuracy: 0.1536 - val_loss: 3.6067\n",
      "Epoch 2/10\n",
      "\u001b[1m704/704\u001b[0m \u001b[32m━━━━━━━━━━━━━━━━━━━━\u001b[0m\u001b[37m\u001b[0m \u001b[1m7s\u001b[0m 9ms/step - accuracy: 0.1759 - loss: 3.4484 - val_accuracy: 0.2140 - val_loss: 3.2433\n",
      "Epoch 3/10\n",
      "\u001b[1m704/704\u001b[0m \u001b[32m━━━━━━━━━━━━━━━━━━━━\u001b[0m\u001b[37m\u001b[0m \u001b[1m7s\u001b[0m 9ms/step - accuracy: 0.2419 - loss: 3.0944 - val_accuracy: 0.2574 - val_loss: 3.0216\n",
      "Epoch 4/10\n",
      "\u001b[1m704/704\u001b[0m \u001b[32m━━━━━━━━━━━━━━━━━━━━\u001b[0m\u001b[37m\u001b[0m \u001b[1m7s\u001b[0m 10ms/step - accuracy: 0.2839 - loss: 2.8793 - val_accuracy: 0.2870 - val_loss: 2.9029\n",
      "Epoch 5/10\n",
      "\u001b[1m704/704\u001b[0m \u001b[32m━━━━━━━━━━━━━━━━━━━━\u001b[0m\u001b[37m\u001b[0m \u001b[1m7s\u001b[0m 10ms/step - accuracy: 0.3225 - loss: 2.6987 - val_accuracy: 0.3034 - val_loss: 2.7851\n",
      "Epoch 6/10\n",
      "\u001b[1m704/704\u001b[0m \u001b[32m━━━━━━━━━━━━━━━━━━━━\u001b[0m\u001b[37m\u001b[0m \u001b[1m7s\u001b[0m 10ms/step - accuracy: 0.3490 - loss: 2.5625 - val_accuracy: 0.3222 - val_loss: 2.6942\n",
      "Epoch 7/10\n",
      "\u001b[1m704/704\u001b[0m \u001b[32m━━━━━━━━━━━━━━━━━━━━\u001b[0m\u001b[37m\u001b[0m \u001b[1m7s\u001b[0m 10ms/step - accuracy: 0.3733 - loss: 2.4280 - val_accuracy: 0.3132 - val_loss: 2.7523\n",
      "Epoch 8/10\n",
      "\u001b[1m704/704\u001b[0m \u001b[32m━━━━━━━━━━━━━━━━━━━━\u001b[0m\u001b[37m\u001b[0m \u001b[1m7s\u001b[0m 10ms/step - accuracy: 0.3946 - loss: 2.3317 - val_accuracy: 0.3368 - val_loss: 2.6064\n",
      "Epoch 9/10\n",
      "\u001b[1m704/704\u001b[0m \u001b[32m━━━━━━━━━━━━━━━━━━━━\u001b[0m\u001b[37m\u001b[0m \u001b[1m7s\u001b[0m 10ms/step - accuracy: 0.4117 - loss: 2.2507 - val_accuracy: 0.3388 - val_loss: 2.6101\n",
      "Epoch 10/10\n",
      "\u001b[1m704/704\u001b[0m \u001b[32m━━━━━━━━━━━━━━━━━━━━\u001b[0m\u001b[37m\u001b[0m \u001b[1m7s\u001b[0m 10ms/step - accuracy: 0.4305 - loss: 2.1565 - val_accuracy: 0.3486 - val_loss: 2.5975\n"
     ]
    },
    {
     "data": {
      "text/plain": [
       "<keras.src.callbacks.history.History at 0x16956beef90>"
      ]
     },
     "execution_count": 6,
     "metadata": {},
     "output_type": "execute_result"
    }
   ],
   "source": [
    "# Train the model\n",
    "model.fit(x_train, y_train, epochs=10, validation_split=0.1, batch_size=64)"
   ]
  },
  {
   "cell_type": "code",
   "execution_count": 7,
   "id": "2ff06e8d-b991-4a37-844c-529011b5c45d",
   "metadata": {},
   "outputs": [],
   "source": [
    "# Define the loss function\n",
    "loss_object = tf.keras.losses.CategoricalCrossentropy()"
   ]
  },
  {
   "cell_type": "code",
   "execution_count": 8,
   "id": "3f21ba75-71a3-400f-b753-ac42450de050",
   "metadata": {},
   "outputs": [],
   "source": [
    "# Create ART classifier with loss function\n",
    "classifier = TensorFlowV2Classifier(model=model, nb_classes=100, input_shape=(32, 32, 3), loss_object=loss_object)"
   ]
  },
  {
   "cell_type": "code",
   "execution_count": 9,
   "id": "302a1b6e-be01-4ac5-9b97-339adf665f0f",
   "metadata": {},
   "outputs": [],
   "source": [
    "# Initialize FGSM attack\n",
    "attack = FastGradientMethod(estimator=classifier)"
   ]
  },
  {
   "cell_type": "code",
   "execution_count": 10,
   "id": "a9a18863-e4c1-428e-b62f-e053e231a236",
   "metadata": {},
   "outputs": [],
   "source": [
    "# Iterate over a larger range of delta values\n",
    "delta_values = np.linspace(0.01, 1.0, num=100)\n",
    "accuracies = []\n",
    "\n",
    "for delta in delta_values:\n",
    "    # Update the attack with the current delta value\n",
    "    attack.set_params(**{'eps': delta})\n",
    "\n",
    "    # Generate adversarial examples\n",
    "    x_adv = attack.generate(x=x_test)\n",
    "\n",
    "    # Evaluate model accuracy on adversarial examples\n",
    "    accuracy = np.mean(np.argmax(classifier.predict(x_adv), axis=1) == np.argmax(y_test, axis=1))\n",
    "    accuracies.append(accuracy)"
   ]
  },
  {
   "cell_type": "code",
   "execution_count": 11,
   "id": "d9991673-df80-4107-9c79-7b93f5d74d39",
   "metadata": {},
   "outputs": [],
   "source": [
    "# Identify the maximum delta value where accuracy drops below 10%\n",
    "threshold_accuracy = 0.1\n",
    "max_delta_fail = delta_values[np.where(np.array(accuracies) <= threshold_accuracy)[0][0]]"
   ]
  },
  {
   "cell_type": "code",
   "execution_count": 12,
   "id": "5c9d7112-27d6-4983-9b75-b089b8291ef7",
   "metadata": {},
   "outputs": [
    {
     "data": {
      "image/png": "[encoded data removed]",
      "text/plain": [
       "<Figure size 640x480 with 1 Axes>"
      ]
     },
     "metadata": {},
     "output_type": "display_data"
    },
    {
     "name": "stdout",
     "output_type": "stream",
     "text": [
      "Maximum delta value after which the model fails (accuracy <= 10%): 0.05\n"
     ]
    }
   ],
   "source": [
    "# Plot the graph\n",
    "plt.plot(delta_values, accuracies, marker=\"o\")\n",
    "plt.axhline(y=threshold_accuracy, color='r', linestyle='--')\n",
    "plt.xlabel(\"Delta (Perturbation Magnitude)\")\n",
    "plt.ylabel(\"Model Accuracy\")\n",
    "plt.title(f\"Model Accuracy vs. Delta\\nMax Delta where Model Fails: {max_delta_fail:.2f}\")\n",
    "plt.grid(True)\n",
    "plt.show()\n",
    "\n",
    "print(f\"Maximum delta value after which the model fails (accuracy <= 10%): {max_delta_fail:.2f}\")"
   ]
  },
  {
   "cell_type": "code",
   "execution_count": null,
   "id": "8f2097f4-a0c7-407c-bcb4-2526d4236bff",
   "metadata": {},
   "outputs": [],
   "source": []
  }
 ],
 "metadata": {
  "kernelspec": {
   "display_name": "Python (art_kernel)",
   "language": "python",
   "name": "art_kernel"
  },
  "language_info": {
   "codemirror_mode": {
    "name": "ipython",
    "version": 3
   },
   "file_extension": ".py",
   "mimetype": "text/x-python",
   "name": "python",
   "nbconvert_exporter": "python",
   "pygments_lexer": "ipython3",
   "version": "3.12.4"
  }
 },
 "nbformat": 4,
 "nbformat_minor": 5
}
