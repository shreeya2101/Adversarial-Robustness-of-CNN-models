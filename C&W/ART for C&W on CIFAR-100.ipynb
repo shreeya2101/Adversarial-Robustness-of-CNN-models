{
 "cells": [
  {
   "cell_type": "code",
   "execution_count": 4,
   "id": "240158a7-7cfb-4590-9b8a-cce5bac1bed7",
   "metadata": {},
   "outputs": [],
   "source": [
    "import numpy as np\n",
    "import tensorflow as tf\n",
    "from art.attacks.evasion import CarliniL2Method\n",
    "from art.estimators.classification import TensorFlowV2Classifier\n",
    "import matplotlib.pyplot as plt\n"
   ]
  },
  {
   "cell_type": "code",
   "execution_count": 5,
   "id": "e6458e28-5dcc-4706-a1c7-1d7495aa3662",
   "metadata": {},
   "outputs": [],
   "source": [
    "# Load CIFAR-100 dataset\n",
    "(x_train, y_train), (x_test, y_test) = tf.keras.datasets.cifar100.load_data()"
   ]
  },
  {
   "cell_type": "code",
   "execution_count": 6,
   "id": "db35bd74-57ab-4a4b-9489-ef80d866024f",
   "metadata": {},
   "outputs": [],
   "source": [
    "# Preprocess data\n",
    "x_train = x_train.astype(\"float32\") / 255.0\n",
    "x_test = x_test.astype(\"float32\") / 255.0\n",
    "y_train = tf.keras.utils.to_categorical(y_train, 100)\n",
    "y_test = tf.keras.utils.to_categorical(y_test, 100)\n"
   ]
  },
  {
   "cell_type": "code",
   "execution_count": 7,
   "id": "22a06a21-b887-4cab-a582-076aa19ae395",
   "metadata": {},
   "outputs": [],
   "source": [
    "# Use a smaller subset of the dataset\n",
    "subset_size = 10  # Adjust this size as needed\n",
    "x_test_subset = x_test[:subset_size]\n",
    "y_test_subset = y_test[:subset_size]"
   ]
  },
  {
   "cell_type": "code",
   "execution_count": 8,
   "id": "0165fe5c-8a49-43a2-b183-832e8dc5ebda",
   "metadata": {},
   "outputs": [
    {
     "name": "stderr",
     "output_type": "stream",
     "text": [
      "D:\\Tarun\\Desktop\\mlProj\\my_venv\\Lib\\site-packages\\keras\\src\\layers\\convolutional\\base_conv.py:107: UserWarning: Do not pass an `input_shape`/`input_dim` argument to a layer. When using Sequential models, prefer using an `Input(shape)` object as the first layer in the model instead.\n",
      "  super().__init__(activity_regularizer=activity_regularizer, **kwargs)\n"
     ]
    }
   ],
   "source": [
    "# Create a simple CNN model\n",
    "model = tf.keras.Sequential([\n",
    "    tf.keras.layers.Conv2D(32, (3, 3), activation=\"relu\", input_shape=(32, 32, 3)),\n",
    "    tf.keras.layers.MaxPooling2D((2, 2)),\n",
    "    tf.keras.layers.Conv2D(64, (3, 3), activation=\"relu\"),\n",
    "    tf.keras.layers.MaxPooling2D((2, 2)),\n",
    "    tf.keras.layers.Conv2D(64, (3, 3), activation=\"relu\"),\n",
    "    tf.keras.layers.Flatten(),\n",
    "    tf.keras.layers.Dense(128, activation=\"relu\"),\n",
    "    tf.keras.layers.Dense(100, activation=\"softmax\")\n",
    "])"
   ]
  },
  {
   "cell_type": "code",
   "execution_count": 9,
   "id": "530aa390-4ec5-4a0c-b698-1264bcf0caa2",
   "metadata": {},
   "outputs": [],
   "source": [
    "# Compile the model\n",
    "model.compile(optimizer=\"adam\", loss=\"categorical_crossentropy\", metrics=[\"accuracy\"])\n"
   ]
  },
  {
   "cell_type": "code",
   "execution_count": 10,
   "id": "8927c9f1-c1d7-40ab-b491-da30d06dbf15",
   "metadata": {},
   "outputs": [
    {
     "name": "stdout",
     "output_type": "stream",
     "text": [
      "Epoch 1/10\n",
      "\u001b[1m704/704\u001b[0m \u001b[32m━━━━━━━━━━━━━━━━━━━━\u001b[0m\u001b[37m\u001b[0m \u001b[1m8s\u001b[0m 10ms/step - accuracy: 0.0368 - loss: 4.3626 - val_accuracy: 0.1226 - val_loss: 3.7592\n",
      "Epoch 2/10\n",
      "\u001b[1m704/704\u001b[0m \u001b[32m━━━━━━━━━━━━━━━━━━━━\u001b[0m\u001b[37m\u001b[0m \u001b[1m7s\u001b[0m 9ms/step - accuracy: 0.1425 - loss: 3.6289 - val_accuracy: 0.1824 - val_loss: 3.4174\n",
      "Epoch 3/10\n",
      "\u001b[1m704/704\u001b[0m \u001b[32m━━━━━━━━━━━━━━━━━━━━\u001b[0m\u001b[37m\u001b[0m \u001b[1m7s\u001b[0m 9ms/step - accuracy: 0.2038 - loss: 3.2712 - val_accuracy: 0.2138 - val_loss: 3.2242\n",
      "Epoch 4/10\n",
      "\u001b[1m704/704\u001b[0m \u001b[32m━━━━━━━━━━━━━━━━━━━━\u001b[0m\u001b[37m\u001b[0m \u001b[1m7s\u001b[0m 10ms/step - accuracy: 0.2545 - loss: 3.0480 - val_accuracy: 0.2598 - val_loss: 3.0154\n",
      "Epoch 5/10\n",
      "\u001b[1m704/704\u001b[0m \u001b[32m━━━━━━━━━━━━━━━━━━━━\u001b[0m\u001b[37m\u001b[0m \u001b[1m6s\u001b[0m 9ms/step - accuracy: 0.2857 - loss: 2.8789 - val_accuracy: 0.2714 - val_loss: 2.9624\n",
      "Epoch 6/10\n",
      "\u001b[1m704/704\u001b[0m \u001b[32m━━━━━━━━━━━━━━━━━━━━\u001b[0m\u001b[37m\u001b[0m \u001b[1m7s\u001b[0m 10ms/step - accuracy: 0.3088 - loss: 2.7518 - val_accuracy: 0.2722 - val_loss: 2.9506\n",
      "Epoch 7/10\n",
      "\u001b[1m704/704\u001b[0m \u001b[32m━━━━━━━━━━━━━━━━━━━━\u001b[0m\u001b[37m\u001b[0m \u001b[1m7s\u001b[0m 10ms/step - accuracy: 0.3304 - loss: 2.6634 - val_accuracy: 0.2968 - val_loss: 2.7840\n",
      "Epoch 8/10\n",
      "\u001b[1m704/704\u001b[0m \u001b[32m━━━━━━━━━━━━━━━━━━━━\u001b[0m\u001b[37m\u001b[0m \u001b[1m7s\u001b[0m 10ms/step - accuracy: 0.3497 - loss: 2.5636 - val_accuracy: 0.3162 - val_loss: 2.7557\n",
      "Epoch 9/10\n",
      "\u001b[1m704/704\u001b[0m \u001b[32m━━━━━━━━━━━━━━━━━━━━\u001b[0m\u001b[37m\u001b[0m \u001b[1m7s\u001b[0m 10ms/step - accuracy: 0.3600 - loss: 2.4974 - val_accuracy: 0.3312 - val_loss: 2.6603\n",
      "Epoch 10/10\n",
      "\u001b[1m704/704\u001b[0m \u001b[32m━━━━━━━━━━━━━━━━━━━━\u001b[0m\u001b[37m\u001b[0m \u001b[1m7s\u001b[0m 10ms/step - accuracy: 0.3778 - loss: 2.4163 - val_accuracy: 0.3348 - val_loss: 2.6752\n"
     ]
    },
    {
     "data": {
      "text/plain": [
       "<keras.src.callbacks.history.History at 0x174e9c81280>"
      ]
     },
     "execution_count": 10,
     "metadata": {},
     "output_type": "execute_result"
    }
   ],
   "source": [
    "# Train the model\n",
    "model.fit(x_train, y_train, epochs=10, validation_split=0.1, batch_size=64)\n"
   ]
  },
  {
   "cell_type": "code",
   "execution_count": 11,
   "id": "dd21db21-936a-40ef-8a53-149f8864d84a",
   "metadata": {},
   "outputs": [],
   "source": [
    "# Define the loss function\n",
    "loss_object = tf.keras.losses.CategoricalCrossentropy()\n"
   ]
  },
  {
   "cell_type": "code",
   "execution_count": 12,
   "id": "c1680dca-c94f-4461-82c4-551bd8d239b7",
   "metadata": {},
   "outputs": [],
   "source": [
    "# Create ART classifier with loss function\n",
    "classifier = TensorFlowV2Classifier(model=model, nb_classes=100, input_shape=(32, 32, 3), loss_object=loss_object)"
   ]
  },
  {
   "cell_type": "code",
   "execution_count": 13,
   "id": "80f186ed-c7d0-4d96-a132-e3d538962a78",
   "metadata": {},
   "outputs": [],
   "source": [
    "# Initialize C&W attack\n",
    "attack = CarliniL2Method(classifier=classifier, confidence=0.0, learning_rate=0.01, binary_search_steps=5, max_iter=10)"
   ]
  },
  {
   "cell_type": "code",
   "execution_count": 14,
   "id": "709c32d9-3f85-494e-b514-ea7609124cd2",
   "metadata": {},
   "outputs": [
    {
     "name": "stderr",
     "output_type": "stream",
     "text": [
      "C&W L_2:   0%|          | 0/10 [00:00<?, ?it/s]"
     ]
    },
    {
     "name": "stdout",
     "output_type": "stream",
     "text": [
      "WARNING:tensorflow:Calling GradientTape.gradient on a persistent tape inside its context is significantly less efficient than calling it outside the context (it causes the gradient ops to be recorded on the tape, leading to increased CPU and memory usage). Only call GradientTape.gradient inside the context if you actually want to trace the gradient in order to compute higher order derivatives.\n"
     ]
    },
    {
     "name": "stderr",
     "output_type": "stream",
     "text": [
      "C&W L_2: 100%|██████████| 10/10 [00:30<00:00,  3.08s/it]\n",
      "C&W L_2: 100%|██████████| 10/10 [00:30<00:00,  3.06s/it]\n",
      "C&W L_2: 100%|██████████| 10/10 [00:31<00:00,  3.15s/it]\n",
      "C&W L_2: 100%|██████████| 10/10 [00:31<00:00,  3.15s/it]\n",
      "C&W L_2: 100%|██████████| 10/10 [00:31<00:00,  3.16s/it]\n"
     ]
    }
   ],
   "source": [
    "# Iterate over a range of eps values\n",
    "eps_values = np.linspace(0.0, 0.01, num=5)\n",
    "accuracies = []\n",
    "\n",
    "for eps in eps_values:\n",
    "    # Generate adversarial examples\n",
    "    x_adv = attack.generate(x=x_test_subset, eps=eps)\n",
    "\n",
    "    # Evaluate model accuracy on adversarial examples\n",
    "    accuracy = np.mean(np.argmax(classifier.predict(x_adv), axis=1) == np.argmax(y_test_subset, axis=1))\n",
    "    accuracies.append(accuracy)"
   ]
  },
  {
   "cell_type": "code",
   "execution_count": 15,
   "id": "25218a42-773e-4c41-b263-e2d1bcbdfb1d",
   "metadata": {},
   "outputs": [
    {
     "data": {
      "image/png": "[encoded data removed]",
      "text/plain": [
       "<Figure size 640x480 with 1 Axes>"
      ]
     },
     "metadata": {},
     "output_type": "display_data"
    },
    {
     "name": "stdout",
     "output_type": "stream",
     "text": [
      "Maximum eps value after which the model fails (accuracy <= 10%): 0.00\n"
     ]
    }
   ],
   "source": [
    "# Plot the graph\n",
    "plt.plot(eps_values, accuracies, marker=\"o\")\n",
    "plt.axhline(y=0.1, color='r', linestyle='--')\n",
    "plt.xlabel(\"Eps (Perturbation Magnitude)\")\n",
    "plt.ylabel(\"Model Accuracy\")\n",
    "plt.title(\"C&W on CIFAR-100: Model Accuracy vs. Eps\")\n",
    "plt.grid(True)\n",
    "plt.show()\n",
    "\n",
    "print(f\"Maximum eps value after which the model fails (accuracy <= 10%): {eps_values[np.where(np.array(accuracies) <= 0.1)[0][0]]:.2f}\")"
   ]
  },
  {
   "cell_type": "code",
   "execution_count": null,
   "id": "6d0b9f38-e957-4213-934f-64dd277c67c1",
   "metadata": {},
   "outputs": [],
   "source": []
  }
 ],
 "metadata": {
  "kernelspec": {
   "display_name": "Python (art_kernel)",
   "language": "python",
   "name": "art_kernel"
  },
  "language_info": {
   "codemirror_mode": {
    "name": "ipython",
    "version": 3
   },
   "file_extension": ".py",
   "mimetype": "text/x-python",
   "name": "python",
   "nbconvert_exporter": "python",
   "pygments_lexer": "ipython3",
   "version": "3.12.4"
  }
 },
 "nbformat": 4,
 "nbformat_minor": 5
}
